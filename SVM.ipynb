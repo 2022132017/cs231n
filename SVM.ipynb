{
 "cells": [
  {
   "cell_type": "code",
   "execution_count": 2,
   "id": "14919e6f",
   "metadata": {},
   "outputs": [],
   "source": [
    "def Loss_i(x, y, W):\n",
    "    delta = 1.0\n",
    "    scores = W.dot(x)\n",
    "    corect_class_score = scores[y]\n",
    "    D = W.shape[0]\n",
    "    loss = 0.0\n",
    "    \n",
    "    for i in range(D):\n",
    "        if(j == y):\n",
    "            continue\n",
    "        else:\n",
    "            loss += max(0, scores[j] - correct_class_score + delta)\n",
    "    return loss"
   ]
  },
  {
   "cell_type": "code",
   "execution_count": 3,
   "id": "18058229",
   "metadata": {},
   "outputs": [],
   "source": [
    "def Loss_i_vectorized(x, y, W):\n",
    "    delta = 1.0\n",
    "    scores = W.dot(x)\n",
    "    margins = np.maximum(0, scores - scores[y] + delta)\n",
    "    margins[y] = 0\n",
    "    loss_i = np.sum(margins)\n",
    "    \n",
    "    return loss"
   ]
  },
  {
   "cell_type": "code",
   "execution_count": 63,
   "id": "cc47d7d3",
   "metadata": {},
   "outputs": [],
   "source": [
    "def L(X, y, W):\n",
    "    delta = 1.0\n",
    "    scores = W.dot(X)\n",
    "    correct_class_scores = scores[y, range(X.shape[1])]\n",
    "    margins = np.maximum(0, scores - correct_class_scores + delta)\n",
    "    losses = np.sum(margins, axis = 0)\n",
    "    losses = losses - np.tile(np.array([1]), losses.shape)\n",
    "    \n",
    "    return losses"
   ]
  },
  {
   "cell_type": "code",
   "execution_count": 65,
   "id": "1f67a397",
   "metadata": {},
   "outputs": [],
   "source": [
    "import numpy as np\n",
    "\n",
    "W = np.array([[0.01, -0.05, 0.1, 0.05, 0.0],[0.7, 0.2, 0.05, 0.16, 0.2],[0.0, -0.45, -0.2, 0.03, -0.3]])\n",
    "X = np.array([[-15, 22, -44, 56, 1], [2,2,2,2,1], [3,3,3,3,1], [4,4,4,4,1]], dtype = np.float64)\n",
    "y = np.array([2,2, 2, 2])\n",
    "\n",
    "losses = L(X.T,y, W)"
   ]
  }
 ],
 "metadata": {
  "kernelspec": {
   "display_name": "cs231n_study",
   "language": "python",
   "name": "cs231n_study"
  },
  "language_info": {
   "codemirror_mode": {
    "name": "ipython",
    "version": 3
   },
   "file_extension": ".py",
   "mimetype": "text/x-python",
   "name": "python",
   "nbconvert_exporter": "python",
   "pygments_lexer": "ipython3",
   "version": "3.7.16"
  }
 },
 "nbformat": 4,
 "nbformat_minor": 5
}
