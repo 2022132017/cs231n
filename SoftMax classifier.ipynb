{
 "cells": [
  {
   "cell_type": "code",
   "execution_count": 33,
   "id": "de0bb9f9-6e4e-4870-80db-47b66b3e286c",
   "metadata": {},
   "outputs": [],
   "source": [
    "def L(X, y, W):\n",
    "    scores = W.dot(X)\n",
    "    exp_scores = np.exp(scores)\n",
    "    normalized_exp_scores = exp_scores / np.sum(exp_scores, axis = 0)\n",
    "    idx = normalized_exp_scores[y, range(X.shape[1])]\n",
    "    \n",
    "    return -np.log(idx)"
   ]
  },
  {
   "cell_type": "code",
   "execution_count": 34,
   "id": "4b5bd421",
   "metadata": {},
   "outputs": [
    {
     "name": "stdout",
     "output_type": "stream",
     "text": [
      "[1.04019057 4.08209928 5.7331953  7.43547438]\n"
     ]
    }
   ],
   "source": [
    "import numpy as np\n",
    "\n",
    "W = np.array([[0.01, -0.05, 0.1, 0.05, 0.0],[0.7, 0.2, 0.05, 0.16, 0.2],[0.0, -0.45, -0.2, 0.03, -0.3]])\n",
    "X = np.array([[-15, 22, -44, 56, 1], [2,2,2,2,1], [3,3,3,3,1], [4,4,4,4,1]], dtype = np.float64)\n",
    "y = np.array([2,2, 2, 2])\n",
    "\n",
    "losses = L(X.T,y, W)\n",
    "print(losses)"
   ]
  }
 ],
 "metadata": {
  "kernelspec": {
   "display_name": "Python 3 (ipykernel)",
   "language": "python",
   "name": "python3"
  },
  "language_info": {
   "codemirror_mode": {
    "name": "ipython",
    "version": 3
   },
   "file_extension": ".py",
   "mimetype": "text/x-python",
   "name": "python",
   "nbconvert_exporter": "python",
   "pygments_lexer": "ipython3",
   "version": "3.7.16"
  }
 },
 "nbformat": 4,
 "nbformat_minor": 5
}
